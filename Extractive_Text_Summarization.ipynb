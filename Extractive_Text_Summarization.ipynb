{
  "nbformat": 4,
  "nbformat_minor": 0,
  "metadata": {
    "colab": {
      "name": "Extractive Text Summarization",
      "provenance": [],
      "machine_shape": "hm"
    },
    "kernelspec": {
      "name": "python3",
      "display_name": "Python 3"
    }
  },
  "cells": [
    {
      "cell_type": "markdown",
      "metadata": {
        "id": "NhPwHhcu1DLE",
        "colab_type": "text"
      },
      "source": [
        "# Extractive Text Sumarization\n",
        "\n",
        "* Select sentences from a document that best represent its content and are arranged to form a summary."
      ]
    },
    {
      "cell_type": "markdown",
      "metadata": {
        "id": "xBfQjZhP1hch",
        "colab_type": "text"
      },
      "source": [
        "* Uses unsupervised method of cosine similarity. Cosine similarity is the cosine of the angle between two vectors. Its 0 if the two vectors are identical.\n"
      ]
    },
    {
      "cell_type": "code",
      "metadata": {
        "id": "9YRIaaPX3w4b",
        "colab_type": "code",
        "colab": {}
      },
      "source": [
        "from nltk.cluster.util import cosine_distance\n",
        "from nltk.corpus import stopwords\n",
        "import numpy as np\n",
        "import networkx as nx"
      ],
      "execution_count": 0,
      "outputs": []
    },
    {
      "cell_type": "code",
      "metadata": {
        "id": "JjKCSzn635mx",
        "colab_type": "code",
        "colab": {}
      },
      "source": [
        "maintext='''\n",
        "In an attempt to build an AI-ready workforce, Microsoft announced Intelligent Cloud Hub which has been launched to empower the next generation of students with AI-ready skills.\\n\n",
        "Envisioned as a three-year collaborative program, Intelligent Cloud Hub will support around 100 institutions with AI infrastructure, course content and curriculum, developer support, development tools and give students access to cloud and AI services.\\n\n",
        "As part of the program, the Redmond giant which wants to expand its reach and is planning to build a strong developer ecosystem in India with the program will set up the core AI infrastructure and IoT Hub for the selected campuses.\\n\n",
        "The company will provide AI development tools and Azure AI services such as Microsoft Cognitive Services, Bot Services and Azure Machine Learning.\\n\n",
        "According to Manish Prakash, Country General Manager-PS, Health and Education, Microsoft India, said, \"With AI being the defining technology of our time, it is transforming lives and industry and the jobs of tomorrow will require a different skillset.\\n\n",
        "This will require more collaborations and training and working with AI.\\n\n",
        "That’s why it has become more critical than ever for educational institutions to integrate new cloud and AI technologies.\\n\n",
        "The program is an attempt to ramp up the institutional set-up and build capabilities among the educators to educate the workforce of tomorrow.\\n\n",
        "\" The program aims to build up the cognitive skills and in-depth understanding of developing intelligent cloud connected solutions for applications across industry.\\n\n",
        "Earlier in April this year, the company announced Microsoft Professional Program In AI as a learning track open to the public.\\n\n",
        "The program was developed to provide job ready skills to programmers who wanted to hone their skills in AI and data science with a series of online courses which featured hands-on labs and expert instructors as well.\\n\n",
        "This program also included developer-focused AI school that provided a bunch of assets to help build AI skills.\\n\n",
        "'''"
      ],
      "execution_count": 0,
      "outputs": []
    },
    {
      "cell_type": "code",
      "metadata": {
        "id": "FC3dqap15Ufp",
        "colab_type": "code",
        "colab": {
          "base_uri": "https://localhost:8080/",
          "height": 130
        },
        "outputId": "9f8e87c7-817b-479e-878c-11d36aaf80b3"
      },
      "source": [
        "sents=maintext.split(\"\\n\")\n",
        "sents[:5]"
      ],
      "execution_count": 39,
      "outputs": [
        {
          "output_type": "execute_result",
          "data": {
            "text/plain": [
              "['',\n",
              " 'In an attempt to build an AI-ready workforce, Microsoft announced Intelligent Cloud Hub which has been launched to empower the next generation of students with AI-ready skills.',\n",
              " '',\n",
              " 'Envisioned as a three-year collaborative program, Intelligent Cloud Hub will support around 100 institutions with AI infrastructure, course content and curriculum, developer support, development tools and give students access to cloud and AI services.',\n",
              " '']"
            ]
          },
          "metadata": {
            "tags": []
          },
          "execution_count": 39
        }
      ]
    },
    {
      "cell_type": "code",
      "metadata": {
        "id": "y7fCECbw5ovm",
        "colab_type": "code",
        "colab": {}
      },
      "source": [
        "import re\n",
        "def cleaner(sentence):\n",
        "  tokens=re.findall('[a-z A-z]+',sentence)\n",
        "  return ' '.join([token.lower() for token in tokens])"
      ],
      "execution_count": 0,
      "outputs": []
    },
    {
      "cell_type": "code",
      "metadata": {
        "id": "xwRJzm3R6DQ9",
        "colab_type": "code",
        "colab": {}
      },
      "source": [
        "cleaned_sentences=list(map(cleaner,sents))"
      ],
      "execution_count": 0,
      "outputs": []
    },
    {
      "cell_type": "code",
      "metadata": {
        "id": "c4rdxQca6qlK",
        "colab_type": "code",
        "colab": {
          "base_uri": "https://localhost:8080/",
          "height": 408
        },
        "outputId": "57684254-d0d0-4d52-b11c-f067e7473756"
      },
      "source": [
        "cleaned_sentences[:20]"
      ],
      "execution_count": 42,
      "outputs": [
        {
          "output_type": "execute_result",
          "data": {
            "text/plain": [
              "['',\n",
              " 'in an attempt to build an ai ready workforce  microsoft announced intelligent cloud hub which has been launched to empower the next generation of students with ai ready skills',\n",
              " '',\n",
              " 'envisioned as a three year collaborative program  intelligent cloud hub will support around   institutions with ai infrastructure  course content and curriculum  developer support  development tools and give students access to cloud and ai services',\n",
              " '',\n",
              " 'as part of the program  the redmond giant which wants to expand its reach and is planning to build a strong developer ecosystem in india with the program will set up the core ai infrastructure and iot hub for the selected campuses',\n",
              " '',\n",
              " 'the company will provide ai development tools and azure ai services such as microsoft cognitive services  bot services and azure machine learning',\n",
              " '',\n",
              " 'according to manish prakash  country general manager ps  health and education  microsoft india  said   with ai being the defining technology of our time  it is transforming lives and industry and the jobs of tomorrow will require a different skillset',\n",
              " '',\n",
              " 'this will require more collaborations and training and working with ai',\n",
              " '',\n",
              " 'that s why it has become more critical than ever for educational institutions to integrate new cloud and ai technologies',\n",
              " '',\n",
              " 'the program is an attempt to ramp up the institutional set up and build capabilities among the educators to educate the workforce of tomorrow',\n",
              " '',\n",
              " ' the program aims to build up the cognitive skills and in depth understanding of developing intelligent cloud connected solutions for applications across industry',\n",
              " '',\n",
              " 'earlier in april this year  the company announced microsoft professional program in ai as a learning track open to the public']"
            ]
          },
          "metadata": {
            "tags": []
          },
          "execution_count": 42
        }
      ]
    },
    {
      "cell_type": "code",
      "metadata": {
        "id": "AoN8QiAiAiGb",
        "colab_type": "code",
        "colab": {
          "base_uri": "https://localhost:8080/",
          "height": 36
        },
        "outputId": "5c9e66ae-231e-4fe3-9d48-0d7d1186df0e"
      },
      "source": [
        "len(cleaned_sentences)"
      ],
      "execution_count": 43,
      "outputs": [
        {
          "output_type": "execute_result",
          "data": {
            "text/plain": [
              "26"
            ]
          },
          "metadata": {
            "tags": []
          },
          "execution_count": 43
        }
      ]
    },
    {
      "cell_type": "code",
      "metadata": {
        "id": "jWN2EorzAlU7",
        "colab_type": "code",
        "colab": {}
      },
      "source": [
        "cleaned_sentences=[sent for sent in cleaned_sentences if len(sent.split(' '))>=5]"
      ],
      "execution_count": 0,
      "outputs": []
    },
    {
      "cell_type": "code",
      "metadata": {
        "id": "B9bT5tqLArz9",
        "colab_type": "code",
        "colab": {
          "base_uri": "https://localhost:8080/",
          "height": 223
        },
        "outputId": "cd5c610e-4ed4-4674-d586-e1c7f82c0cca"
      },
      "source": [
        "cleaned_sentences[:10]"
      ],
      "execution_count": 45,
      "outputs": [
        {
          "output_type": "execute_result",
          "data": {
            "text/plain": [
              "['in an attempt to build an ai ready workforce  microsoft announced intelligent cloud hub which has been launched to empower the next generation of students with ai ready skills',\n",
              " 'envisioned as a three year collaborative program  intelligent cloud hub will support around   institutions with ai infrastructure  course content and curriculum  developer support  development tools and give students access to cloud and ai services',\n",
              " 'as part of the program  the redmond giant which wants to expand its reach and is planning to build a strong developer ecosystem in india with the program will set up the core ai infrastructure and iot hub for the selected campuses',\n",
              " 'the company will provide ai development tools and azure ai services such as microsoft cognitive services  bot services and azure machine learning',\n",
              " 'according to manish prakash  country general manager ps  health and education  microsoft india  said   with ai being the defining technology of our time  it is transforming lives and industry and the jobs of tomorrow will require a different skillset',\n",
              " 'this will require more collaborations and training and working with ai',\n",
              " 'that s why it has become more critical than ever for educational institutions to integrate new cloud and ai technologies',\n",
              " 'the program is an attempt to ramp up the institutional set up and build capabilities among the educators to educate the workforce of tomorrow',\n",
              " ' the program aims to build up the cognitive skills and in depth understanding of developing intelligent cloud connected solutions for applications across industry',\n",
              " 'earlier in april this year  the company announced microsoft professional program in ai as a learning track open to the public']"
            ]
          },
          "metadata": {
            "tags": []
          },
          "execution_count": 45
        }
      ]
    },
    {
      "cell_type": "code",
      "metadata": {
        "id": "vqiZCMhl7f08",
        "colab_type": "code",
        "colab": {
          "base_uri": "https://localhost:8080/",
          "height": 73
        },
        "outputId": "9716c9c1-c4f9-4056-c400-914e8267b29d"
      },
      "source": [
        "import nltk\n",
        "nltk.download('stopwords')"
      ],
      "execution_count": 46,
      "outputs": [
        {
          "output_type": "stream",
          "text": [
            "[nltk_data] Downloading package stopwords to /root/nltk_data...\n",
            "[nltk_data]   Package stopwords is already up-to-date!\n"
          ],
          "name": "stdout"
        },
        {
          "output_type": "execute_result",
          "data": {
            "text/plain": [
              "True"
            ]
          },
          "metadata": {
            "tags": []
          },
          "execution_count": 46
        }
      ]
    },
    {
      "cell_type": "code",
      "metadata": {
        "id": "QLS1-FtR795v",
        "colab_type": "code",
        "colab": {}
      },
      "source": [
        "stopwords_list=stopwords.words('english')"
      ],
      "execution_count": 0,
      "outputs": []
    },
    {
      "cell_type": "code",
      "metadata": {
        "id": "428iHqSI61IF",
        "colab_type": "code",
        "colab": {}
      },
      "source": [
        "def sentence_similarity(sent1,sent2):\n",
        "  all_words=list(set(sent1+sent2))\n",
        "  vector1=[0]*len((all_words))\n",
        "  vector2=[0]*len((all_words))\n",
        "  #generate vector for first sentence\n",
        "  for w in sent1:\n",
        "    if w not in stopwords_list:\n",
        "      vector1[all_words.index(w)]+=1\n",
        "  for w in sent2:\n",
        "    if w not in stopwords_list:\n",
        "      vector2[all_words.index(w)]+=1\n",
        "  return 1 - cosine_distance(vector1, vector2)# returns 1 - cosine distance      "
      ],
      "execution_count": 0,
      "outputs": []
    },
    {
      "cell_type": "code",
      "metadata": {
        "id": "F7_p4Fpv9YeB",
        "colab_type": "code",
        "colab": {
          "base_uri": "https://localhost:8080/",
          "height": 36
        },
        "outputId": "05d3f4b3-806b-4e9f-8b16-d1416f1959d8"
      },
      "source": [
        "sentence_similarity('hi my name is hamza','hi my name is hamza')"
      ],
      "execution_count": 49,
      "outputs": [
        {
          "output_type": "execute_result",
          "data": {
            "text/plain": [
              "1.0000000000000002"
            ]
          },
          "metadata": {
            "tags": []
          },
          "execution_count": 49
        }
      ]
    },
    {
      "cell_type": "code",
      "metadata": {
        "id": "kyGgFGDl-FZe",
        "colab_type": "code",
        "colab": {
          "base_uri": "https://localhost:8080/",
          "height": 36
        },
        "outputId": "19ba3e26-ccee-4aaa-88e8-bb3f6f5bc300"
      },
      "source": [
        "sentence_similarity('I like cats','Donald Trump is the president of the united states')"
      ],
      "execution_count": 50,
      "outputs": [
        {
          "output_type": "execute_result",
          "data": {
            "text/plain": [
              "0.6750123615163116"
            ]
          },
          "metadata": {
            "tags": []
          },
          "execution_count": 50
        }
      ]
    },
    {
      "cell_type": "code",
      "metadata": {
        "id": "-MnJhYcS-Q6b",
        "colab_type": "code",
        "colab": {}
      },
      "source": [
        "def build_similarity_matrix(sentences):\n",
        "  similarity_matrix=np.zeros((len(sentences),len(sentences)))\n",
        "  n=len(sentences)\n",
        "  for index1 in range(n):\n",
        "    for index2 in range(n):\n",
        "      if index1!=index2:\n",
        "        similarity_matrix[index1][index2]=sentence_similarity(sentences[index1],sentences[index2])\n",
        "  return similarity_matrix "
      ],
      "execution_count": 0,
      "outputs": []
    },
    {
      "cell_type": "code",
      "metadata": {
        "id": "8UHydhKQ_XYi",
        "colab_type": "code",
        "colab": {}
      },
      "source": [
        "similarity_matrix=build_similarity_matrix(cleaned_sentences)"
      ],
      "execution_count": 0,
      "outputs": []
    },
    {
      "cell_type": "code",
      "metadata": {
        "id": "9HBM_NBIHx0u",
        "colab_type": "code",
        "colab": {}
      },
      "source": [
        "def generate_summary(similarity_matrix,sentences,top_n=5):\n",
        "  sentence_similarity_graph=nx.from_numpy_array(similarity_matrix)\n",
        "  scores=nx.pagerank(sentence_similarity_graph)\n",
        "  ranked_sentence=sorted(((scores[i],s) for i,s in enumerate(sentences)),reverse=True)\n",
        "  return ranked_sentence"
      ],
      "execution_count": 0,
      "outputs": []
    },
    {
      "cell_type": "code",
      "metadata": {
        "id": "d8JowL0pJcOW",
        "colab_type": "code",
        "colab": {}
      },
      "source": [
        "ranked=generate_summary(similarity_matrix,cleaned_sentences)"
      ],
      "execution_count": 0,
      "outputs": []
    },
    {
      "cell_type": "code",
      "metadata": {
        "id": "crn7HS73Jgiu",
        "colab_type": "code",
        "colab": {
          "base_uri": "https://localhost:8080/",
          "height": 130
        },
        "outputId": "4b9fd2c6-226c-4038-c4fd-338475f20d3f"
      },
      "source": [
        "summary_sentences=[]\n",
        "for index in range(5):\n",
        "  summary_sentences.append(ranked[index][1])\n",
        "summary_sentences"
      ],
      "execution_count": 57,
      "outputs": [
        {
          "output_type": "execute_result",
          "data": {
            "text/plain": [
              "['as part of the program  the redmond giant which wants to expand its reach and is planning to build a strong developer ecosystem in india with the program will set up the core ai infrastructure and iot hub for the selected campuses',\n",
              " 'the program was developed to provide job ready skills to programmers who wanted to hone their skills in ai and data science with a series of online courses which featured hands on labs and expert instructors as well',\n",
              " 'in an attempt to build an ai ready workforce  microsoft announced intelligent cloud hub which has been launched to empower the next generation of students with ai ready skills',\n",
              " 'according to manish prakash  country general manager ps  health and education  microsoft india  said   with ai being the defining technology of our time  it is transforming lives and industry and the jobs of tomorrow will require a different skillset',\n",
              " 'that s why it has become more critical than ever for educational institutions to integrate new cloud and ai technologies']"
            ]
          },
          "metadata": {
            "tags": []
          },
          "execution_count": 57
        }
      ]
    },
    {
      "cell_type": "code",
      "metadata": {
        "id": "OuNEh2rUIOwa",
        "colab_type": "code",
        "colab": {
          "base_uri": "https://localhost:8080/",
          "height": 130
        },
        "outputId": "0df24947-c718-4a7a-af32-f3c0b196a041"
      },
      "source": [
        "print('.\\n'.join(summary_sentences))"
      ],
      "execution_count": 61,
      "outputs": [
        {
          "output_type": "stream",
          "text": [
            "as part of the program  the redmond giant which wants to expand its reach and is planning to build a strong developer ecosystem in india with the program will set up the core ai infrastructure and iot hub for the selected campuses.\n",
            "the program was developed to provide job ready skills to programmers who wanted to hone their skills in ai and data science with a series of online courses which featured hands on labs and expert instructors as well.\n",
            "in an attempt to build an ai ready workforce  microsoft announced intelligent cloud hub which has been launched to empower the next generation of students with ai ready skills.\n",
            "according to manish prakash  country general manager ps  health and education  microsoft india  said   with ai being the defining technology of our time  it is transforming lives and industry and the jobs of tomorrow will require a different skillset.\n",
            "that s why it has become more critical than ever for educational institutions to integrate new cloud and ai technologies\n"
          ],
          "name": "stdout"
        }
      ]
    }
  ]
}